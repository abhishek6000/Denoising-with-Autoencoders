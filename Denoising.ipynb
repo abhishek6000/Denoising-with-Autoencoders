{
  "nbformat": 4,
  "nbformat_minor": 0,
  "metadata": {
    "colab": {
      "name": "Denoising.ipynb",
      "provenance": []
    },
    "kernelspec": {
      "name": "python3",
      "display_name": "Python 3"
    },
    "accelerator": "GPU"
  },
  "cells": [
    {
      "cell_type": "markdown",
      "metadata": {
        "id": "qGzBI7fEjRln",
        "colab_type": "text"
      },
      "source": [
        "# Import"
      ]
    },
    {
      "cell_type": "code",
      "metadata": {
        "id": "_dzD_FFqg15t",
        "colab_type": "code",
        "colab": {}
      },
      "source": [
        "import numpy as np\n",
        "import matplotlib.pyplot as plt\n",
        "from tensorflow.keras.layers import Conv2D, Input, Dense, Reshape, Conv2DTranspose,Activation, BatchNormalization, ReLU, Concatenate\n",
        "from tensorflow.keras.callbacks import ModelCheckpoint\n",
        "from tensorflow.keras.datasets import cifar10\n",
        "from tensorflow.keras.models import Model"
      ],
      "execution_count": 1,
      "outputs": []
    },
    {
      "cell_type": "markdown",
      "metadata": {
        "id": "H7GLAZhhjULp",
        "colab_type": "text"
      },
      "source": [
        "# Load"
      ]
    },
    {
      "cell_type": "code",
      "metadata": {
        "id": "UEnZQ5FphHjk",
        "colab_type": "code",
        "colab": {
          "base_uri": "https://localhost:8080/",
          "height": 53
        },
        "outputId": "2d1f357c-b720-417e-df41-1c0160ae431f"
      },
      "source": [
        "(train_x, train_y), (test_x, test_y) = cifar10.load_data()"
      ],
      "execution_count": 2,
      "outputs": [
        {
          "output_type": "stream",
          "text": [
            "Downloading data from https://www.cs.toronto.edu/~kriz/cifar-10-python.tar.gz\n",
            "170500096/170498071 [==============================] - 6s 0us/step\n"
          ],
          "name": "stdout"
        }
      ]
    },
    {
      "cell_type": "code",
      "metadata": {
        "id": "13VOyzLkh3A3",
        "colab_type": "code",
        "colab": {
          "base_uri": "https://localhost:8080/",
          "height": 53
        },
        "outputId": "24b9cebc-380b-4461-9644-3b5ad929710d"
      },
      "source": [
        "print(train_x.shape)\n",
        "print(train_y.shape)"
      ],
      "execution_count": 3,
      "outputs": [
        {
          "output_type": "stream",
          "text": [
            "(50000, 32, 32, 3)\n",
            "(50000, 1)\n"
          ],
          "name": "stdout"
        }
      ]
    },
    {
      "cell_type": "code",
      "metadata": {
        "id": "bWIRJh8KiAZx",
        "colab_type": "code",
        "colab": {
          "base_uri": "https://localhost:8080/",
          "height": 53
        },
        "outputId": "18cb6280-0605-4aea-e870-5641a0e45478"
      },
      "source": [
        "print(test_x.shape)\n",
        "print(test_y.shape)"
      ],
      "execution_count": 4,
      "outputs": [
        {
          "output_type": "stream",
          "text": [
            "(10000, 32, 32, 3)\n",
            "(10000, 1)\n"
          ],
          "name": "stdout"
        }
      ]
    },
    {
      "cell_type": "code",
      "metadata": {
        "id": "-OYiB6b8iDIF",
        "colab_type": "code",
        "colab": {}
      },
      "source": [
        "train_x = train_x.astype('float32')/255"
      ],
      "execution_count": 5,
      "outputs": []
    },
    {
      "cell_type": "code",
      "metadata": {
        "id": "h1M3TSmkiqpn",
        "colab_type": "code",
        "colab": {}
      },
      "source": [
        "test_x = test_x.astype('float32')/255"
      ],
      "execution_count": 6,
      "outputs": []
    },
    {
      "cell_type": "markdown",
      "metadata": {
        "id": "5Dl_91r8jWg7",
        "colab_type": "text"
      },
      "source": [
        "# Generating Noise"
      ]
    },
    {
      "cell_type": "code",
      "metadata": {
        "id": "icwe8KuzjINJ",
        "colab_type": "code",
        "colab": {}
      },
      "source": [
        "noise = np.random.normal(loc=0.0, scale=0.1, size=train_x.shape)\n",
        "train_x_noise = train_x + noise\n",
        "train_x_noise = np.clip(train_x_noise, 0., 1.)"
      ],
      "execution_count": 7,
      "outputs": []
    },
    {
      "cell_type": "code",
      "metadata": {
        "id": "k-8Ynkvnj-Zk",
        "colab_type": "code",
        "colab": {}
      },
      "source": [
        "noise = np.random.normal(loc=0.0, scale=0.1, size=test_x.shape)\n",
        "test_x_noise = test_x + noise\n",
        "test_x_noise = np.clip(test_x_noise, 0., 1.)"
      ],
      "execution_count": 8,
      "outputs": []
    },
    {
      "cell_type": "markdown",
      "metadata": {
        "id": "KfwpAwpIkOrP",
        "colab_type": "text"
      },
      "source": [
        "# Visualize"
      ]
    },
    {
      "cell_type": "code",
      "metadata": {
        "id": "P0c2ZSMCkNr1",
        "colab_type": "code",
        "colab": {
          "base_uri": "https://localhost:8080/",
          "height": 216
        },
        "outputId": "288924b6-fd7b-44a2-b3da-797008cafeb5"
      },
      "source": [
        "plt.subplot(1,2,1)\n",
        "plt.imshow(train_x[5])\n",
        "plt.title('Original image')\n",
        "plt.subplot(1,2,2)\n",
        "plt.imshow(train_x_noise[5])\n",
        "plt.title('Image with noise')\n",
        "plt.show()"
      ],
      "execution_count": 9,
      "outputs": [
        {
          "output_type": "display_data",
          "data": {
            "image/png": "[encoded data removed]",
            "text/plain": [
              "<Figure size 432x288 with 2 Axes>"
            ]
          },
          "metadata": {
            "tags": [],
            "needs_background": "light"
          }
        }
      ]
    },
    {
      "cell_type": "code",
      "metadata": {
        "id": "lRQ6e39QkUju",
        "colab_type": "code",
        "colab": {
          "base_uri": "https://localhost:8080/",
          "height": 216
        },
        "outputId": "29b3acea-fae4-4254-83c3-fd259f1bb6c8"
      },
      "source": [
        "plt.subplot(1,2,1)\n",
        "plt.imshow(train_x[20])\n",
        "plt.title('Original image')\n",
        "plt.subplot(1,2,2)\n",
        "plt.imshow(train_x_noise[20])\n",
        "plt.title('Image with noise')\n",
        "plt.show()"
      ],
      "execution_count": 10,
      "outputs": [
        {
          "output_type": "display_data",
          "data": {
            "image/png": "[encoded data removed]",
            "text/plain": [
              "<Figure size 432x288 with 2 Axes>"
            ]
          },
          "metadata": {
            "tags": [],
            "needs_background": "light"
          }
        }
      ]
    },
    {
      "cell_type": "markdown",
      "metadata": {
        "id": "UvWYMm4toqsX",
        "colab_type": "text"
      },
      "source": [
        "# Using the autoencoder approach"
      ]
    },
    {
      "cell_type": "code",
      "metadata": {
        "id": "YHYNZOucklFp",
        "colab_type": "code",
        "colab": {}
      },
      "source": [
        "def conv_block(x, filters, kernel_size, strides=2):\n",
        "   x = Conv2D(filters=filters,\n",
        "              kernel_size=kernel_size,\n",
        "              strides=strides,\n",
        "              padding='same')(x)\n",
        "   x = BatchNormalization()(x)\n",
        "   x = ReLU()(x)\n",
        "   return x"
      ],
      "execution_count": 11,
      "outputs": []
    },
    {
      "cell_type": "code",
      "metadata": {
        "id": "A7FphZtvloHf",
        "colab_type": "code",
        "colab": {}
      },
      "source": [
        "def deconv_block(x, filters, kernel_size):\n",
        "   x = Conv2DTranspose(filters=filters,\n",
        "                       kernel_size=kernel_size,\n",
        "                       strides=2,\n",
        "                       padding='same')(x)\n",
        "   x = BatchNormalization()(x)\n",
        "   x = ReLU()(x)\n",
        "   return x"
      ],
      "execution_count": 12,
      "outputs": []
    },
    {
      "cell_type": "markdown",
      "metadata": {
        "id": "qOILfEjnr_8V",
        "colab_type": "text"
      },
      "source": [
        "**Model**"
      ]
    },
    {
      "cell_type": "code",
      "metadata": {
        "id": "mES0S9wlo5MF",
        "colab_type": "code",
        "colab": {}
      },
      "source": [
        "def denoising_autoencoder():\n",
        "   den_inputs = Input(shape=(32, 32, 3), name='dae_input')\n",
        "   conv_block1 = conv_block(den_inputs, 32, 3)\n",
        "   conv_block2 = conv_block(conv_block1, 64, 3)\n",
        "   conv_block3 = conv_block(conv_block2, 128, 3)\n",
        "   conv_block4 = conv_block(conv_block3, 256, 3)\n",
        "   conv_block5 = conv_block(conv_block4, 256, 3, 1)\n",
        "\n",
        "   deconv_block1 = deconv_block(conv_block5, 256, 3)\n",
        "   merge1 = Concatenate()([deconv_block1, conv_block3])\n",
        "   deconv_block2 = deconv_block(merge1, 128, 3)\n",
        "   merge2 = Concatenate()([deconv_block2, conv_block2])\n",
        "   deconv_block3 = deconv_block(merge2, 64, 3)\n",
        "   merge3 = Concatenate()([deconv_block3, conv_block1])\n",
        "   deconv_block4 = deconv_block(merge3, 32, 3)\n",
        "\n",
        "   final_deconv = Conv2DTranspose(filters=3,\n",
        "                       kernel_size=3,\n",
        "                       padding='same')(deconv_block4)\n",
        "   den_outputs = Activation('sigmoid', name='dae_output')(final_deconv)\n",
        "  \n",
        "   return Model(den_inputs, den_outputs)"
      ],
      "execution_count": 13,
      "outputs": []
    },
    {
      "cell_type": "markdown",
      "metadata": {
        "id": "bPvhM1ZYsC_G",
        "colab_type": "text"
      },
      "source": [
        "**Train**"
      ]
    },
    {
      "cell_type": "code",
      "metadata": {
        "id": "rKKSqF4Zp5Hi",
        "colab_type": "code",
        "colab": {
          "base_uri": "https://localhost:8080/",
          "height": 1000
        },
        "outputId": "a39ac1b8-4b4c-467a-ac04-94920b5f0cd6"
      },
      "source": [
        "model = denoising_autoencoder()\n",
        "model.compile(loss='mse', optimizer='adam')\n",
        "model.fit(train_x_noise,train_x,validation_data=(test_x_noise, test_x),epochs=35,batch_size=128)"
      ],
      "execution_count": 14,
      "outputs": [
        {
          "output_type": "stream",
          "text": [
            "Epoch 1/35\n",
            "391/391 [==============================] - 13s 34ms/step - loss: 0.0046 - val_loss: 0.0055\n",
            "Epoch 2/35\n",
            "391/391 [==============================] - 12s 31ms/step - loss: 0.0024 - val_loss: 0.0029\n",
            "Epoch 3/35\n",
            "391/391 [==============================] - 12s 31ms/step - loss: 0.0022 - val_loss: 0.0020\n",
            "Epoch 4/35\n",
            "391/391 [==============================] - 12s 31ms/step - loss: 0.0021 - val_loss: 0.0023\n",
            "Epoch 5/35\n",
            "391/391 [==============================] - 12s 31ms/step - loss: 0.0020 - val_loss: 0.0019\n",
            "Epoch 6/35\n",
            "391/391 [==============================] - 12s 31ms/step - loss: 0.0020 - val_loss: 0.0022\n",
            "Epoch 7/35\n",
            "391/391 [==============================] - 12s 31ms/step - loss: 0.0020 - val_loss: 0.0019\n",
            "Epoch 8/35\n",
            "391/391 [==============================] - 12s 31ms/step - loss: 0.0020 - val_loss: 0.0022\n",
            "Epoch 9/35\n",
            "391/391 [==============================] - 12s 31ms/step - loss: 0.0019 - val_loss: 0.0018\n",
            "Epoch 10/35\n",
            "391/391 [==============================] - 12s 31ms/step - loss: 0.0019 - val_loss: 0.0017\n",
            "Epoch 11/35\n",
            "391/391 [==============================] - 12s 32ms/step - loss: 0.0018 - val_loss: 0.0019\n",
            "Epoch 12/35\n",
            "391/391 [==============================] - 12s 31ms/step - loss: 0.0018 - val_loss: 0.0018\n",
            "Epoch 13/35\n",
            "391/391 [==============================] - 12s 32ms/step - loss: 0.0018 - val_loss: 0.0017\n",
            "Epoch 14/35\n",
            "391/391 [==============================] - 12s 31ms/step - loss: 0.0017 - val_loss: 0.0017\n",
            "Epoch 15/35\n",
            "391/391 [==============================] - 12s 31ms/step - loss: 0.0017 - val_loss: 0.0017\n",
            "Epoch 16/35\n",
            "391/391 [==============================] - 12s 31ms/step - loss: 0.0017 - val_loss: 0.0016\n",
            "Epoch 17/35\n",
            "391/391 [==============================] - 12s 31ms/step - loss: 0.0017 - val_loss: 0.0017\n",
            "Epoch 18/35\n",
            "391/391 [==============================] - 12s 31ms/step - loss: 0.0017 - val_loss: 0.0016\n",
            "Epoch 19/35\n",
            "391/391 [==============================] - 12s 31ms/step - loss: 0.0017 - val_loss: 0.0017\n",
            "Epoch 20/35\n",
            "391/391 [==============================] - 12s 31ms/step - loss: 0.0017 - val_loss: 0.0016\n",
            "Epoch 21/35\n",
            "391/391 [==============================] - 12s 31ms/step - loss: 0.0016 - val_loss: 0.0016\n",
            "Epoch 22/35\n",
            "391/391 [==============================] - 12s 31ms/step - loss: 0.0016 - val_loss: 0.0016\n",
            "Epoch 23/35\n",
            "391/391 [==============================] - 12s 31ms/step - loss: 0.0016 - val_loss: 0.0017\n",
            "Epoch 24/35\n",
            "391/391 [==============================] - 12s 31ms/step - loss: 0.0016 - val_loss: 0.0016\n",
            "Epoch 25/35\n",
            "391/391 [==============================] - 12s 31ms/step - loss: 0.0016 - val_loss: 0.0016\n",
            "Epoch 26/35\n",
            "391/391 [==============================] - 12s 31ms/step - loss: 0.0016 - val_loss: 0.0016\n",
            "Epoch 27/35\n",
            "391/391 [==============================] - 12s 31ms/step - loss: 0.0016 - val_loss: 0.0016\n",
            "Epoch 28/35\n",
            "391/391 [==============================] - 12s 31ms/step - loss: 0.0016 - val_loss: 0.0016\n",
            "Epoch 29/35\n",
            "391/391 [==============================] - 12s 31ms/step - loss: 0.0016 - val_loss: 0.0016\n",
            "Epoch 30/35\n",
            "391/391 [==============================] - 12s 31ms/step - loss: 0.0015 - val_loss: 0.0015\n",
            "Epoch 31/35\n",
            "391/391 [==============================] - 12s 31ms/step - loss: 0.0015 - val_loss: 0.0016\n",
            "Epoch 32/35\n",
            "391/391 [==============================] - 12s 31ms/step - loss: 0.0016 - val_loss: 0.0017\n",
            "Epoch 33/35\n",
            "391/391 [==============================] - 12s 31ms/step - loss: 0.0016 - val_loss: 0.0015\n",
            "Epoch 34/35\n",
            "391/391 [==============================] - 12s 31ms/step - loss: 0.0015 - val_loss: 0.0015\n",
            "Epoch 35/35\n",
            "391/391 [==============================] - 12s 31ms/step - loss: 0.0015 - val_loss: 0.0015\n"
          ],
          "name": "stdout"
        },
        {
          "output_type": "execute_result",
          "data": {
            "text/plain": [
              "<tensorflow.python.keras.callbacks.History at 0x7f7f302b31d0>"
            ]
          },
          "metadata": {
            "tags": []
          },
          "execution_count": 14
        }
      ]
    },
    {
      "cell_type": "code",
      "metadata": {
        "id": "FbEhGALHvIiU",
        "colab_type": "code",
        "colab": {}
      },
      "source": [
        "model.save('auto_model.h5')"
      ],
      "execution_count": 15,
      "outputs": []
    },
    {
      "cell_type": "code",
      "metadata": {
        "id": "R0J04_dardjq",
        "colab_type": "code",
        "colab": {
          "base_uri": "https://localhost:8080/",
          "height": 162
        },
        "outputId": "570453e3-e888-4179-83b7-a8f57eae9445"
      },
      "source": [
        "model.load_weights('auto_model.h5')\n",
        "test_data_denoised = model.predict(test_x_noise)\n",
        "idx = 10\n",
        "plt.subplot(1,3,1)\n",
        "plt.imshow(test_x[idx])\n",
        "plt.title('original')\n",
        "plt.subplot(1,3,2)\n",
        "plt.imshow(test_x_noise[idx])\n",
        "plt.title('noisy')\n",
        "plt.subplot(1,3,3)\n",
        "plt.imshow(test_data_denoised[idx])\n",
        "plt.title('denoised')\n",
        "plt.show()"
      ],
      "execution_count": 18,
      "outputs": [
        {
          "output_type": "display_data",
          "data": {
            "image/png": "[encoded data removed]",
            "text/plain": [
              "<Figure size 432x288 with 3 Axes>"
            ]
          },
          "metadata": {
            "tags": [],
            "needs_background": "light"
          }
        }
      ]
    }
  ]
}